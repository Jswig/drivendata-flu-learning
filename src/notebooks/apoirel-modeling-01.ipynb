{
 "cells": [
  {
   "cell_type": "markdown",
   "metadata": {},
   "source": [
    "# Model Baseline \n",
    "\n",
    "For this baseline model, we'll use all features without prior selection.\n",
    "Logistic regression is often a good model to use for a classification baseline\n",
    "(reasonably fast and easy to interpret).\n",
    "We'll fit a different model for each of the targets `h1n1_vaccine` and `seasonal_vaccine`\n",
    "as data exploration showed significant differences in how the features related to each,\n",
    "in particular for the respondents' perceived risk and vaccine effectiveness for each \n",
    "disease (e.g. `opinion_h1n1_sick_from_vacc`)\n"
   ]
  },
  {
   "cell_type": "code",
   "execution_count": 78,
   "metadata": {},
   "outputs": [],
   "source": [
    "import pandas as pd\n",
    "import numpy as np\n",
    "import os\n",
    "\n",
    "import matplotlib.pyplot as plt\n",
    "import seaborn as sns\n",
    "import matplotlib as mpl\n",
    "\n",
    "from sklearn.compose import ColumnTransformer\n",
    "from sklearn.impute import KNNImputer, SimpleImputer\n",
    "from sklearn.linear_model import LogisticRegression\n",
    "from sklearn.svm import LinearSVC\n",
    "from sklearn.metrics import roc_auc_score, balanced_accuracy_score\n",
    "from sklearn.model_selection import cross_validate\n",
    "from sklearn.multioutput import MultiOutputClassifier\n",
    "from sklearn.pipeline import Pipeline\n",
    "from sklearn.preprocessing import StandardScaler, OneHotEncoder"
   ]
  },
  {
   "cell_type": "markdown",
   "metadata": {},
   "source": [
    "Figure prettifying:"
   ]
  },
  {
   "cell_type": "code",
   "execution_count": 2,
   "metadata": {},
   "outputs": [],
   "source": [
    "mpl.rcParams.update({\n",
    "    'figure.autolayout': True,\n",
    "    'figure.dpi': 150\n",
    "})\n",
    "sns.set()"
   ]
  },
  {
   "cell_type": "markdown",
   "metadata": {},
   "source": [
    "## Data pre-processing"
   ]
  },
  {
   "cell_type": "code",
   "execution_count": 3,
   "metadata": {},
   "outputs": [],
   "source": [
    "DATA_PATH = '../../data/raw'\n",
    "X_train = pd.read_csv(\n",
    "    os.path.join(DATA_PATH, 'training_set_features.csv')\n",
    ").drop('respondent_id',axis =1)\n",
    "\n",
    "X_test = pd.read_csv(\n",
    "    os.path.join(DATA_PATH, 'test_set_features.csv')\n",
    ").drop('respondent_id',axis =1)\n",
    "\n",
    "y_train = pd.read_csv(\n",
    "    os.path.join(DATA_PATH, 'training_set_labels.csv')\n",
    ").drop('respondent_id',axis =1)\n",
    "\n",
    "sub = pd.read_csv(os.path.join(DATA_PATH, 'submission_format.csv'))"
   ]
  },
  {
   "cell_type": "markdown",
   "metadata": {},
   "source": [
    "Missing value imputation"
   ]
  },
  {
   "cell_type": "markdown",
   "metadata": {},
   "source": [
    "## Models\n",
    "\n",
    "Common utilities for preprocessing in the pipelines. We can create an special `missing` value to impute \n",
    "categorical features. For numerical features, we'll use K-nearest neighbors imputation, wich in general\n",
    "produces better results than imputation along the mean"
   ]
  },
  {
   "cell_type": "code",
   "execution_count": 79,
   "metadata": {},
   "outputs": [],
   "source": [
    "num_features = X_train.columns[X_train.dtypes != \"object\"].values\n",
    "cat_features = X_train.columns[X_train.dtypes == \"object\"].values\n",
    "\n",
    "num_transformer = Pipeline([\n",
    "    ('scale', StandardScaler()),\n",
    "    ('impute', KNNImputer(n_neighbors = 10))\n",
    "])\n",
    "\n",
    "cat_transformer = Pipeline([\n",
    "    ('impute', SimpleImputer(strategy = 'constant', fill_value = 'missing')),\n",
    "    ('encode', OneHotEncoder(drop = 'first'))\n",
    "])\n",
    "\n",
    "preprocessor = ColumnTransformer([\n",
    "    ('num', num_transformer, num_features),\n",
    "    ('cat', cat_transformer, cat_features)\n",
    "])\n"
   ]
  },
  {
   "cell_type": "markdown",
   "metadata": {},
   "source": [
    "### Logistic Regression\n",
    "\n",
    "Logistic regression usually makes a decent baseline for classification problems. As we need to predict two different \n",
    "values, we will use a `MultiOutputClassifier`"
   ]
  },
  {
   "cell_type": "code",
   "execution_count": 91,
   "metadata": {},
   "outputs": [
    {
     "data": {
      "text/plain": [
       "(26707, 35)"
      ]
     },
     "execution_count": 91,
     "metadata": {},
     "output_type": "execute_result"
    }
   ],
   "source": [
    "X_train.shape"
   ]
  },
  {
   "cell_type": "markdown",
   "metadata": {},
   "source": [
    "The choice of $L1$ regularization was a bit arbitrary, but motivated by the high number of features \n",
    "(relative to the number of training examples) after one-hot encoding. The `saga` solver is used because\n",
    "there a a significant number of training samples (though not so high that I am not sure whether LFBGS would be faster)"
   ]
  },
  {
   "cell_type": "code",
   "execution_count": 90,
   "metadata": {},
   "outputs": [],
   "source": [
    "def get_model(C = 1):\n",
    "    model = Pipeline([\n",
    "        ('pre', preprocessor),\n",
    "        ('model', MultiOutputClassifier(LogisticRegression(\n",
    "            penalty = 'l1', \n",
    "            C = C,\n",
    "            solver = 'saga'\n",
    "        )))\n",
    "    ])\n",
    "    return model"
   ]
  },
  {
   "cell_type": "markdown",
   "metadata": {},
   "source": [
    "Logistic regression only has one major hyperparameter, the regularization $C$. Generate an array of choices of $C$\n",
    "to evaluate performance"
   ]
  },
  {
   "cell_type": "code",
   "execution_count": 60,
   "metadata": {},
   "outputs": [
    {
     "name": "stderr",
     "output_type": "stream",
     "text": [
      "[Parallel(n_jobs=-1)]: Using backend LokyBackend with 8 concurrent workers.\n",
      "[Parallel(n_jobs=-1)]: Done   2 out of   5 | elapsed:   58.6s remaining:  1.5min\n",
      "[Parallel(n_jobs=-1)]: Done   3 out of   5 | elapsed:   58.7s remaining:   39.1s\n",
      "[Parallel(n_jobs=-1)]: Done   5 out of   5 | elapsed:   58.9s remaining:    0.0s\n",
      "[Parallel(n_jobs=-1)]: Done   5 out of   5 | elapsed:   58.9s finished\n",
      "[Parallel(n_jobs=-1)]: Using backend LokyBackend with 8 concurrent workers.\n"
     ]
    },
    {
     "name": "stdout",
     "output_type": "stream",
     "text": [
      "0.8359570068602908\n",
      "0.00454557237059546\n"
     ]
    },
    {
     "name": "stderr",
     "output_type": "stream",
     "text": [
      "[Parallel(n_jobs=-1)]: Done   2 out of   5 | elapsed:  1.1min remaining:  1.6min\n",
      "[Parallel(n_jobs=-1)]: Done   3 out of   5 | elapsed:  1.1min remaining:   43.4s\n",
      "[Parallel(n_jobs=-1)]: Done   5 out of   5 | elapsed:  1.1min remaining:    0.0s\n",
      "[Parallel(n_jobs=-1)]: Done   5 out of   5 | elapsed:  1.1min finished\n",
      "[Parallel(n_jobs=-1)]: Using backend LokyBackend with 8 concurrent workers.\n"
     ]
    },
    {
     "name": "stdout",
     "output_type": "stream",
     "text": [
      "0.8384926555108251\n",
      "0.004309168953361544\n"
     ]
    },
    {
     "name": "stderr",
     "output_type": "stream",
     "text": [
      "[Parallel(n_jobs=-1)]: Done   2 out of   5 | elapsed:  1.0min remaining:  1.6min\n",
      "[Parallel(n_jobs=-1)]: Done   3 out of   5 | elapsed:  1.1min remaining:   42.0s\n",
      "[Parallel(n_jobs=-1)]: Done   5 out of   5 | elapsed:  1.1min remaining:    0.0s\n",
      "[Parallel(n_jobs=-1)]: Done   5 out of   5 | elapsed:  1.1min finished\n",
      "[Parallel(n_jobs=-1)]: Using backend LokyBackend with 8 concurrent workers.\n"
     ]
    },
    {
     "name": "stdout",
     "output_type": "stream",
     "text": [
      "0.8415477130286263\n",
      "0.0041589998513324195\n"
     ]
    },
    {
     "name": "stderr",
     "output_type": "stream",
     "text": [
      "[Parallel(n_jobs=-1)]: Done   2 out of   5 | elapsed:   59.0s remaining:  1.5min\n",
      "[Parallel(n_jobs=-1)]: Done   3 out of   5 | elapsed:  1.0min remaining:   40.0s\n",
      "[Parallel(n_jobs=-1)]: Done   5 out of   5 | elapsed:  1.0min remaining:    0.0s\n",
      "[Parallel(n_jobs=-1)]: Done   5 out of   5 | elapsed:  1.0min finished\n",
      "[Parallel(n_jobs=-1)]: Using backend LokyBackend with 8 concurrent workers.\n"
     ]
    },
    {
     "name": "stdout",
     "output_type": "stream",
     "text": [
      "0.8426449163882058\n",
      "0.004222060302828883\n"
     ]
    },
    {
     "name": "stderr",
     "output_type": "stream",
     "text": [
      "[Parallel(n_jobs=-1)]: Done   2 out of   5 | elapsed:   58.2s remaining:  1.5min\n",
      "[Parallel(n_jobs=-1)]: Done   3 out of   5 | elapsed:   58.5s remaining:   39.0s\n",
      "[Parallel(n_jobs=-1)]: Done   5 out of   5 | elapsed:   58.6s remaining:    0.0s\n",
      "[Parallel(n_jobs=-1)]: Done   5 out of   5 | elapsed:   58.6s finished\n"
     ]
    },
    {
     "name": "stdout",
     "output_type": "stream",
     "text": [
      "0.8430384315713294\n",
      "0.004216902093193638\n"
     ]
    },
    {
     "name": "stderr",
     "output_type": "stream",
     "text": [
      "[Parallel(n_jobs=-1)]: Using backend LokyBackend with 8 concurrent workers.\n",
      "[Parallel(n_jobs=-1)]: Done   2 out of   5 | elapsed:  1.1min remaining:  1.7min\n",
      "[Parallel(n_jobs=-1)]: Done   3 out of   5 | elapsed:  1.1min remaining:   45.1s\n",
      "[Parallel(n_jobs=-1)]: Done   5 out of   5 | elapsed:  1.1min remaining:    0.0s\n",
      "[Parallel(n_jobs=-1)]: Done   5 out of   5 | elapsed:  1.1min finished\n"
     ]
    },
    {
     "name": "stdout",
     "output_type": "stream",
     "text": [
      "0.8430694812799034\n",
      "0.004218082544784668\n"
     ]
    },
    {
     "name": "stderr",
     "output_type": "stream",
     "text": [
      "[Parallel(n_jobs=-1)]: Using backend LokyBackend with 8 concurrent workers.\n",
      "[Parallel(n_jobs=-1)]: Done   2 out of   5 | elapsed:  1.0min remaining:  1.5min\n",
      "[Parallel(n_jobs=-1)]: Done   3 out of   5 | elapsed:  1.0min remaining:   41.9s\n",
      "[Parallel(n_jobs=-1)]: Done   5 out of   5 | elapsed:  1.1min remaining:    0.0s\n",
      "[Parallel(n_jobs=-1)]: Done   5 out of   5 | elapsed:  1.1min finished\n"
     ]
    },
    {
     "name": "stdout",
     "output_type": "stream",
     "text": [
      "0.843010269439359\n",
      "0.004221532261750377\n"
     ]
    },
    {
     "name": "stderr",
     "output_type": "stream",
     "text": [
      "[Parallel(n_jobs=-1)]: Using backend LokyBackend with 8 concurrent workers.\n",
      "[Parallel(n_jobs=-1)]: Done   2 out of   5 | elapsed:  1.2min remaining:  1.8min\n",
      "[Parallel(n_jobs=-1)]: Done   3 out of   5 | elapsed:  1.2min remaining:   49.7s\n",
      "[Parallel(n_jobs=-1)]: Done   5 out of   5 | elapsed:  1.3min remaining:    0.0s\n",
      "[Parallel(n_jobs=-1)]: Done   5 out of   5 | elapsed:  1.3min finished\n"
     ]
    },
    {
     "name": "stdout",
     "output_type": "stream",
     "text": [
      "0.8429331781076586\n",
      "0.0042248864356163865\n"
     ]
    },
    {
     "name": "stderr",
     "output_type": "stream",
     "text": [
      "[Parallel(n_jobs=-1)]: Using backend LokyBackend with 8 concurrent workers.\n",
      "[Parallel(n_jobs=-1)]: Done   2 out of   5 | elapsed:  1.2min remaining:  1.8min\n",
      "[Parallel(n_jobs=-1)]: Done   3 out of   5 | elapsed:  1.2min remaining:   48.2s\n",
      "[Parallel(n_jobs=-1)]: Done   5 out of   5 | elapsed:  1.2min remaining:    0.0s\n",
      "[Parallel(n_jobs=-1)]: Done   5 out of   5 | elapsed:  1.2min finished\n",
      "[Parallel(n_jobs=-1)]: Using backend LokyBackend with 8 concurrent workers.\n"
     ]
    },
    {
     "name": "stdout",
     "output_type": "stream",
     "text": [
      "0.842881962434461\n",
      "0.004230080428360176\n"
     ]
    },
    {
     "name": "stderr",
     "output_type": "stream",
     "text": [
      "[Parallel(n_jobs=-1)]: Done   2 out of   5 | elapsed:  1.3min remaining:  2.0min\n",
      "[Parallel(n_jobs=-1)]: Done   3 out of   5 | elapsed:  1.4min remaining:   54.3s\n",
      "[Parallel(n_jobs=-1)]: Done   5 out of   5 | elapsed:  1.4min remaining:    0.0s\n",
      "[Parallel(n_jobs=-1)]: Done   5 out of   5 | elapsed:  1.4min finished\n"
     ]
    },
    {
     "name": "stdout",
     "output_type": "stream",
     "text": [
      "0.842860234620083\n",
      "0.004226259268194887\n"
     ]
    }
   ],
   "source": [
    "Cs = np.logspace(-2, 1, num = 10, base = 10)\n",
    "means = []\n",
    "stds = []\n",
    "best_auc = 0\n",
    "\n",
    "for C in Cs:\n",
    "    cv = cross_validate(\n",
    "        estimator = get_model(C),\n",
    "        X = X_train,\n",
    "        y = y_train,\n",
    "        cv = 5,\n",
    "        n_jobs = -1,\n",
    "        scoring = 'roc_auc',\n",
    "    )\n",
    "    means.append(np.mean(cv['test_score']))\n",
    "    stds.append(np.std(cv['test_score']))\n",
    "    if means[-1] > best_auc:\n",
    "        best_C = C\n",
    "        best_auc = means[-1]\n",
    "        print('New best AUC: ' + best_auc + ' for C=' + best_C)"
   ]
  },
  {
   "cell_type": "code",
   "execution_count": 92,
   "metadata": {},
   "outputs": [
    {
     "name": "stdout",
     "output_type": "stream",
     "text": [
      "[0.8359570068602908, 0.8384926555108251, 0.8415477130286263, 0.8426449163882058, 0.8430384315713294, 0.8430694812799034, 0.843010269439359, 0.8429331781076586, 0.842881962434461, 0.842860234620083]\n"
     ]
    }
   ],
   "source": [
    "print(means)"
   ]
  },
  {
   "cell_type": "code",
   "execution_count": 66,
   "metadata": {},
   "outputs": [
    {
     "name": "stdout",
     "output_type": "stream",
     "text": [
      "0.8430694812799034\n"
     ]
    }
   ],
   "source": [
    "print(best_auc)"
   ]
  },
  {
   "cell_type": "code",
   "execution_count": 68,
   "metadata": {},
   "outputs": [
    {
     "name": "stdout",
     "output_type": "stream",
     "text": [
      "0.46415888336127775\n"
     ]
    }
   ],
   "source": [
    "print(best_C)"
   ]
  },
  {
   "cell_type": "code",
   "execution_count": 98,
   "metadata": {},
   "outputs": [],
   "source": [
    "from typing import List"
   ]
  },
  {
   "cell_type": "code",
   "execution_count": 104,
   "metadata": {},
   "outputs": [],
   "source": [
    "from sklearn import pipeline, compose, preprocessing, impute"
   ]
  },
  {
   "cell_type": "code",
   "execution_count": 105,
   "metadata": {},
   "outputs": [],
   "source": [
    "def _get_preprocessor(num_features: List[str], cat_features: List[str]) -> Pipeline:\n",
    "\n",
    "    num_transformer = pipeline.Pipeline([\n",
    "        ('scale', preprocessing.StandardScaler()),\n",
    "        ('impute', impute.KNNImputer(n_neighbors = 10))\n",
    "    ])\n",
    "\n",
    "    cat_transformer = pipeline.Pipeline([\n",
    "        ('impute', impute.SimpleImputer(\n",
    "            strategy = 'constant', \n",
    "            fill_value = 'missing'\n",
    "        )),\n",
    "        ('encode', preprocessing.OneHotEncoder(drop = 'first'))\n",
    "    ])\n",
    "\n",
    "    preprocessor = compose.ColumnTransformer([\n",
    "        ('num', num_transformer, num_features),\n",
    "        ('cat', cat_transformer, cat_features)\n",
    "    ])"
   ]
  },
  {
   "cell_type": "code",
   "execution_count": null,
   "metadata": {},
   "outputs": [],
   "source": []
  },
  {
   "cell_type": "code",
   "execution_count": 107,
   "metadata": {},
   "outputs": [],
   "source": [
    "trest = _get_preprocessor(num_features, cat_features)"
   ]
  },
  {
   "cell_type": "markdown",
   "metadata": {},
   "source": [
    "Plot these results for reporting"
   ]
  },
  {
   "cell_type": "code",
   "execution_count": 89,
   "metadata": {},
   "outputs": [
    {
     "data": {
      "image/png": "[encoded data removed]",
      "text/plain": [
       "<Figure size 900x600 with 1 Axes>"
      ]
     },
     "metadata": {},
     "output_type": "display_data"
    }
   ],
   "source": [
    "fig, ax = plt.subplots()\n",
    "ax.plot(Cs, means)\n",
    "ax.vlines(best_C, ymin = 0.82, ymax = 0.86,  colors = 'r', linestyle = 'dotted')\n",
    "ax.annotate(\"$C = 0.464$ \\n ROC AUC = 0.843\", xy = (0.5, 0.835))\n",
    "ax.set_xscale('log')\n",
    "ax.set_xlabel('$C$')\n",
    "ax.grid(axis = 'x')\n",
    "ax.legend(['AUC', 'best $C$'])\n",
    "ax.set_title('AUC for different values of $C$')\n",
    "fig.savefig('../../paper/figures/reg_performance.png')"
   ]
  },
  {
   "cell_type": "markdown",
   "metadata": {},
   "source": [
    "Our best AUC score beats the benchmark by a good margin, so we will make a submission using\n",
    "the model with $C = 1$ (AUC seems constant for $C > 0.5$)"
   ]
  },
  {
   "cell_type": "markdown",
   "metadata": {},
   "source": [
    "## Building a submission\n",
    "\n",
    "Refit the logistic regression model with $C = 1$"
   ]
  },
  {
   "cell_type": "code",
   "execution_count": 72,
   "metadata": {},
   "outputs": [],
   "source": [
    "model = get_model(1)\n",
    "model.fit(X_train, y_train)\n",
    "preds = model.predict_proba(X_test)"
   ]
  },
  {
   "cell_type": "markdown",
   "metadata": {},
   "source": [
    "Note that this returns two arrays, each with the predicted probabilities for *each class* for *each* of the two classifiers,\n",
    "we need to be careful in selecting the correct predictions!"
   ]
  },
  {
   "cell_type": "code",
   "execution_count": 77,
   "metadata": {},
   "outputs": [],
   "source": [
    "sub['h1n1_vaccine'] = preds[0][:,1]\n",
    "sub['seasonal_vaccine'] = preds[1][:,1]\n",
    "sub.to_csv('../../output/baseline_pred.csv', index = False)"
   ]
  },
  {
   "cell_type": "markdown",
   "metadata": {},
   "source": [
    "### Results"
   ]
  },
  {
   "cell_type": "markdown",
   "metadata": {},
   "source": [
    "0.8342 AUC on leaderboard, for a ranking of 181/948"
   ]
  }
 ],
 "metadata": {
  "kernelspec": {
   "display_name": "Python 3.7.4 64-bit ('base': conda)",
   "language": "python",
   "name": "python37464bitbasecondaebb5fd6537484cccb71c56cdcc6ab0f8"
  },
  "language_info": {
   "codemirror_mode": {
    "name": "ipython",
    "version": 3
   },
   "file_extension": ".py",
   "mimetype": "text/x-python",
   "name": "python",
   "nbconvert_exporter": "python",
   "pygments_lexer": "ipython3",
   "version": "3.7.4"
  }
 },
 "nbformat": 4,
 "nbformat_minor": 4
}
